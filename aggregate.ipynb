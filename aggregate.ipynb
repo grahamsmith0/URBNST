{
 "cells": [
  {
   "cell_type": "code",
   "execution_count": 43,
   "metadata": {},
   "outputs": [],
   "source": [
    "import time\n",
    "import urllib.request\n",
    "from datetime import datetime\n",
    "import os\n",
    "\n",
    "from google.transit import gtfs_realtime_pb2\n",
    "\n",
    "import pandas as pd"
   ]
  },
  {
   "cell_type": "code",
   "execution_count": 29,
   "metadata": {},
   "outputs": [],
   "source": [
    "SHINJUKU_ROUTE_IDS = [\n",
    "    \"010\",  # CH01\n",
    "    \"122\",  # 白61\n",
    "    \"135\",  # 宿74\n",
    "    \"138\",  # 宿75\n",
    "    \"147\",  # 早77\n",
    "    \"148\",  # 王78\n",
    "    \"158\",  # 宿91\n",
    "    \"169\",  # 品97\n",
    "]"
   ]
  },
  {
   "cell_type": "code",
   "execution_count": 33,
   "metadata": {},
   "outputs": [],
   "source": [
    "# Helper to convert UNIX timestamp to readable format\n",
    "def format_time(ts):\n",
    "    return datetime.fromtimestamp(ts).strftime(\"%Y-%m-%d %H:%M:%S\") if ts else \"N/A\""
   ]
  },
  {
   "cell_type": "code",
   "execution_count": 39,
   "metadata": {},
   "outputs": [],
   "source": [
    "def process_file(fn: str) -> pd.DataFrame:\n",
    "    feed = gtfs_realtime_pb2.FeedMessage()\n",
    "    with open(fn, \"rb\") as f:\n",
    "        feed.ParseFromString(f.read())\n",
    "\n",
    "    df = pd.DataFrame(\n",
    "        {\n",
    "            \"Vehicle ID\": [],\n",
    "            \"Trip ID\": [],\n",
    "            \"Route ID\": [],\n",
    "            \"Direction\": [],\n",
    "            \"Schedule Relationship\": [],\n",
    "            \"Current Stop Sequence\": [],\n",
    "            \"Current Stop ID\": [],\n",
    "            \"Timestamp\": [],\n",
    "            \"Location\": [],\n",
    "        }\n",
    "    )\n",
    "\n",
    "    # Parse vehicle entities\n",
    "    for entity in feed.entity:\n",
    "        if entity.HasField(\"vehicle\"):\n",
    "            v = entity.vehicle\n",
    "            trip = v.trip\n",
    "            position = v.position\n",
    "            vehicle_info = v.vehicle\n",
    "\n",
    "            if trip.route_id not in SHINJUKU_ROUTE_IDS:\n",
    "                continue\n",
    "\n",
    "            d = pd.DataFrame({\n",
    "                \"Vehicle ID\": [vehicle_info.id],\n",
    "                \"Trip ID\": [trip.trip_id],\n",
    "                \"Route ID\": [trip.route_id],\n",
    "                \"Direction\": [trip.direction_id],\n",
    "                \"Schedule Relationship\": [trip.schedule_relationship],\n",
    "                \"Current Stop Sequence\": [v.current_stop_sequence],\n",
    "                \"Current Stop ID\": [v.stop_id],\n",
    "                \"Timestamp\": [format_time(v.timestamp)],\n",
    "                \"Location\": [f\"{position.latitude} {position.longitude}\"]\n",
    "            })\n",
    "            df = pd.concat([df, d], ignore_index=True)\n",
    "\n",
    "    return df"
   ]
  },
  {
   "cell_type": "code",
   "execution_count": 49,
   "metadata": {},
   "outputs": [],
   "source": [
    "def process_date(date: str) -> None:\n",
    "    started = False\n",
    "    stop = False\n",
    "    df = pd.DataFrame(\n",
    "            {\n",
    "                \"Vehicle ID\": [],\n",
    "                \"Trip ID\": [],\n",
    "                \"Route ID\": [],\n",
    "                \"Direction\": [],\n",
    "                \"Schedule Relationship\": [],\n",
    "                \"Current Stop Sequence\": [],\n",
    "                \"Current Stop ID\": [],\n",
    "                \"Timestamp\": [],\n",
    "                \"Location\": [],\n",
    "            }\n",
    "        )\n",
    "    for root, dirs, files in os.walk(\".\\\\data\", topdown=False):\n",
    "        for name in files:\n",
    "            if started and not name.startswith(date):\n",
    "                stop = True\n",
    "                break\n",
    "            elif not started and name.startswith(date):\n",
    "                started = True\n",
    "            elif not started:\n",
    "                continue\n",
    "            \n",
    "            df = pd.concat([df, process_file(os.path.join(root, name))], ignore_index=True)\n",
    "        \n",
    "        if stop:\n",
    "            break\n",
    "\n",
    "    df.to_csv(f\"{date}.csv\")"
   ]
  },
  {
   "cell_type": "code",
   "execution_count": 50,
   "metadata": {},
   "outputs": [
    {
     "name": "stdout",
     "output_type": "stream",
     "text": [
      "Finished 20250418\n",
      "Finished 20250419\n"
     ]
    }
   ],
   "source": [
    "for i in range(9, 20):\n",
    "    date = f\"202504{str(i).zfill(2)}\"\n",
    "    process_date(date)\n",
    "    print(f\"Finished {date}\")"
   ]
  }
 ],
 "metadata": {
  "kernelspec": {
   "display_name": "env",
   "language": "python",
   "name": "python3"
  },
  "language_info": {
   "codemirror_mode": {
    "name": "ipython",
    "version": 3
   },
   "file_extension": ".py",
   "mimetype": "text/x-python",
   "name": "python",
   "nbconvert_exporter": "python",
   "pygments_lexer": "ipython3",
   "version": "3.10.4"
  }
 },
 "nbformat": 4,
 "nbformat_minor": 2
}
