{
 "cells": [
  {
   "cell_type": "code",
   "execution_count": 44,
   "metadata": {},
   "outputs": [],
   "source": [
    "import time\n",
    "import urllib.request\n",
    "from datetime import datetime, timedelta\n",
    "import os\n",
    "\n",
    "from google.transit import gtfs_realtime_pb2\n",
    "\n",
    "import pandas as pd\n",
    "pd.options.mode.chained_assignment = None  # default='warn'"
   ]
  },
  {
   "cell_type": "code",
   "execution_count": 2,
   "metadata": {},
   "outputs": [],
   "source": [
    "SHINJUKU_ROUTE_IDS = [\n",
    "    \"010\",  # CH01\n",
    "    \"122\",  # 白61\n",
    "    \"135\",  # 宿74\n",
    "    \"138\",  # 宿75\n",
    "    \"147\",  # 早77\n",
    "    \"148\",  # 王78\n",
    "    \"158\",  # 宿91\n",
    "    \"169\",  # 品97\n",
    "]   "
   ]
  },
  {
   "cell_type": "code",
   "execution_count": 3,
   "metadata": {},
   "outputs": [],
   "source": [
    "# Helper to convert UNIX timestamp to readable format\n",
    "def format_time(ts):\n",
    "    return datetime.fromtimestamp(ts).strftime(\"%Y-%m-%d %H:%M:%S\") if ts else \"N/A\""
   ]
  },
  {
   "cell_type": "code",
   "execution_count": 99,
   "metadata": {},
   "outputs": [
    {
     "data": {
      "text/html": [
       "<div>\n",
       "<style scoped>\n",
       "    .dataframe tbody tr th:only-of-type {\n",
       "        vertical-align: middle;\n",
       "    }\n",
       "\n",
       "    .dataframe tbody tr th {\n",
       "        vertical-align: top;\n",
       "    }\n",
       "\n",
       "    .dataframe thead th {\n",
       "        text-align: right;\n",
       "    }\n",
       "</style>\n",
       "<table border=\"1\" class=\"dataframe\">\n",
       "  <thead>\n",
       "    <tr style=\"text-align: right;\">\n",
       "      <th></th>\n",
       "      <th>Vehicle ID</th>\n",
       "      <th>Trip ID</th>\n",
       "      <th>Route ID</th>\n",
       "      <th>Direction</th>\n",
       "      <th>Schedule Relationship</th>\n",
       "      <th>Current Stop Sequence</th>\n",
       "      <th>Current Stop ID</th>\n",
       "      <th>Timestamp</th>\n",
       "      <th>Location</th>\n",
       "    </tr>\n",
       "  </thead>\n",
       "  <tbody>\n",
       "    <tr>\n",
       "      <th>0</th>\n",
       "      <td>K224</td>\n",
       "      <td>12101-3-13-170-1208</td>\n",
       "      <td>10</td>\n",
       "      <td>0.0</td>\n",
       "      <td>0.0</td>\n",
       "      <td>4.0</td>\n",
       "      <td>2250-01</td>\n",
       "      <td>2025-04-09 23:14:06</td>\n",
       "      <td>35.68959045410156 139.69358825683594</td>\n",
       "    </tr>\n",
       "    <tr>\n",
       "      <th>1</th>\n",
       "      <td>F584</td>\n",
       "      <td>44201-1-37-170-1214</td>\n",
       "      <td>122</td>\n",
       "      <td>1.0</td>\n",
       "      <td>0.0</td>\n",
       "      <td>2.0</td>\n",
       "      <td>1516-01</td>\n",
       "      <td>2025-04-09 23:15:28</td>\n",
       "      <td>35.737483978271484 139.66888427734375</td>\n",
       "    </tr>\n",
       "    <tr>\n",
       "      <th>2</th>\n",
       "      <td>G745</td>\n",
       "      <td>44201-1-37-170-1204</td>\n",
       "      <td>122</td>\n",
       "      <td>1.0</td>\n",
       "      <td>0.0</td>\n",
       "      <td>8.0</td>\n",
       "      <td>1486-02</td>\n",
       "      <td>2025-04-09 23:16:05</td>\n",
       "      <td>35.72273635864258 139.6904296875</td>\n",
       "    </tr>\n",
       "    <tr>\n",
       "      <th>3</th>\n",
       "      <td>F577</td>\n",
       "      <td>44201-1-37-170-1154</td>\n",
       "      <td>122</td>\n",
       "      <td>1.0</td>\n",
       "      <td>0.0</td>\n",
       "      <td>13.0</td>\n",
       "      <td>1529-05</td>\n",
       "      <td>2025-04-09 23:16:03</td>\n",
       "      <td>35.7219352722168 139.70632934570312</td>\n",
       "    </tr>\n",
       "    <tr>\n",
       "      <th>4</th>\n",
       "      <td>F576</td>\n",
       "      <td>44201-1-37-170-1144</td>\n",
       "      <td>122</td>\n",
       "      <td>1.0</td>\n",
       "      <td>0.0</td>\n",
       "      <td>20.0</td>\n",
       "      <td>0799-02</td>\n",
       "      <td>2025-04-09 23:15:40</td>\n",
       "      <td>35.7138557434082 139.72604370117188</td>\n",
       "    </tr>\n",
       "  </tbody>\n",
       "</table>\n",
       "</div>"
      ],
      "text/plain": [
       "  Vehicle ID              Trip ID  Route ID  Direction  Schedule Relationship  \\\n",
       "0       K224  12101-3-13-170-1208        10        0.0                    0.0   \n",
       "1       F584  44201-1-37-170-1214       122        1.0                    0.0   \n",
       "2       G745  44201-1-37-170-1204       122        1.0                    0.0   \n",
       "3       F577  44201-1-37-170-1154       122        1.0                    0.0   \n",
       "4       F576  44201-1-37-170-1144       122        1.0                    0.0   \n",
       "\n",
       "   Current Stop Sequence Current Stop ID            Timestamp  \\\n",
       "0                    4.0         2250-01  2025-04-09 23:14:06   \n",
       "1                    2.0         1516-01  2025-04-09 23:15:28   \n",
       "2                    8.0         1486-02  2025-04-09 23:16:05   \n",
       "3                   13.0         1529-05  2025-04-09 23:16:03   \n",
       "4                   20.0         0799-02  2025-04-09 23:15:40   \n",
       "\n",
       "                                Location  \n",
       "0   35.68959045410156 139.69358825683594  \n",
       "1  35.737483978271484 139.66888427734375  \n",
       "2       35.72273635864258 139.6904296875  \n",
       "3    35.7219352722168 139.70632934570312  \n",
       "4    35.7138557434082 139.72604370117188  "
      ]
     },
     "execution_count": 99,
     "metadata": {},
     "output_type": "execute_result"
    }
   ],
   "source": [
    "dfs = []\n",
    "for i in range(9, 20):\n",
    "    date = f\"202504{str(i).zfill(2)}\"\n",
    "    dfs.append(pd.read_csv(f\"{date}.csv\", index_col=0))\n",
    "\n",
    "dfs[0].head()"
   ]
  },
  {
   "cell_type": "code",
   "execution_count": 100,
   "metadata": {},
   "outputs": [
    {
     "name": "stderr",
     "output_type": "stream",
     "text": [
      "C:\\Users\\Graham\\AppData\\Local\\Temp\\ipykernel_8792\\4069088536.py:4: UserWarning: Could not infer format, so each element will be parsed individually, falling back to `dateutil`. To ensure parsing is consistent and as-expected, please specify a format.\n",
      "  stop_times[\"arrival_time\"] = pd.to_datetime(stop_times[\"arrival_time\"], errors=\"coerce\")\n"
     ]
    },
    {
     "name": "stdout",
     "output_type": "stream",
     "text": [
      "Finished 20250409-diffs.csv\n"
     ]
    },
    {
     "name": "stderr",
     "output_type": "stream",
     "text": [
      "C:\\Users\\Graham\\AppData\\Local\\Temp\\ipykernel_8792\\4069088536.py:4: UserWarning: Could not infer format, so each element will be parsed individually, falling back to `dateutil`. To ensure parsing is consistent and as-expected, please specify a format.\n",
      "  stop_times[\"arrival_time\"] = pd.to_datetime(stop_times[\"arrival_time\"], errors=\"coerce\")\n"
     ]
    },
    {
     "name": "stdout",
     "output_type": "stream",
     "text": [
      "Finished 20250410-diffs.csv\n"
     ]
    },
    {
     "name": "stderr",
     "output_type": "stream",
     "text": [
      "C:\\Users\\Graham\\AppData\\Local\\Temp\\ipykernel_8792\\4069088536.py:4: UserWarning: Could not infer format, so each element will be parsed individually, falling back to `dateutil`. To ensure parsing is consistent and as-expected, please specify a format.\n",
      "  stop_times[\"arrival_time\"] = pd.to_datetime(stop_times[\"arrival_time\"], errors=\"coerce\")\n"
     ]
    },
    {
     "name": "stdout",
     "output_type": "stream",
     "text": [
      "Finished 20250411-diffs.csv\n"
     ]
    },
    {
     "name": "stderr",
     "output_type": "stream",
     "text": [
      "C:\\Users\\Graham\\AppData\\Local\\Temp\\ipykernel_8792\\4069088536.py:4: UserWarning: Could not infer format, so each element will be parsed individually, falling back to `dateutil`. To ensure parsing is consistent and as-expected, please specify a format.\n",
      "  stop_times[\"arrival_time\"] = pd.to_datetime(stop_times[\"arrival_time\"], errors=\"coerce\")\n"
     ]
    },
    {
     "name": "stdout",
     "output_type": "stream",
     "text": [
      "Finished 20250412-diffs.csv\n"
     ]
    },
    {
     "name": "stderr",
     "output_type": "stream",
     "text": [
      "C:\\Users\\Graham\\AppData\\Local\\Temp\\ipykernel_8792\\4069088536.py:4: UserWarning: Could not infer format, so each element will be parsed individually, falling back to `dateutil`. To ensure parsing is consistent and as-expected, please specify a format.\n",
      "  stop_times[\"arrival_time\"] = pd.to_datetime(stop_times[\"arrival_time\"], errors=\"coerce\")\n"
     ]
    },
    {
     "name": "stdout",
     "output_type": "stream",
     "text": [
      "Finished 20250413-diffs.csv\n"
     ]
    },
    {
     "name": "stderr",
     "output_type": "stream",
     "text": [
      "C:\\Users\\Graham\\AppData\\Local\\Temp\\ipykernel_8792\\4069088536.py:4: UserWarning: Could not infer format, so each element will be parsed individually, falling back to `dateutil`. To ensure parsing is consistent and as-expected, please specify a format.\n",
      "  stop_times[\"arrival_time\"] = pd.to_datetime(stop_times[\"arrival_time\"], errors=\"coerce\")\n"
     ]
    },
    {
     "name": "stdout",
     "output_type": "stream",
     "text": [
      "Finished 20250414-diffs.csv\n"
     ]
    },
    {
     "name": "stderr",
     "output_type": "stream",
     "text": [
      "C:\\Users\\Graham\\AppData\\Local\\Temp\\ipykernel_8792\\4069088536.py:4: UserWarning: Could not infer format, so each element will be parsed individually, falling back to `dateutil`. To ensure parsing is consistent and as-expected, please specify a format.\n",
      "  stop_times[\"arrival_time\"] = pd.to_datetime(stop_times[\"arrival_time\"], errors=\"coerce\")\n"
     ]
    },
    {
     "name": "stdout",
     "output_type": "stream",
     "text": [
      "Finished 20250415-diffs.csv\n"
     ]
    },
    {
     "name": "stderr",
     "output_type": "stream",
     "text": [
      "C:\\Users\\Graham\\AppData\\Local\\Temp\\ipykernel_8792\\4069088536.py:4: UserWarning: Could not infer format, so each element will be parsed individually, falling back to `dateutil`. To ensure parsing is consistent and as-expected, please specify a format.\n",
      "  stop_times[\"arrival_time\"] = pd.to_datetime(stop_times[\"arrival_time\"], errors=\"coerce\")\n"
     ]
    },
    {
     "name": "stdout",
     "output_type": "stream",
     "text": [
      "Finished 20250416-diffs.csv\n"
     ]
    },
    {
     "name": "stderr",
     "output_type": "stream",
     "text": [
      "C:\\Users\\Graham\\AppData\\Local\\Temp\\ipykernel_8792\\4069088536.py:4: UserWarning: Could not infer format, so each element will be parsed individually, falling back to `dateutil`. To ensure parsing is consistent and as-expected, please specify a format.\n",
      "  stop_times[\"arrival_time\"] = pd.to_datetime(stop_times[\"arrival_time\"], errors=\"coerce\")\n"
     ]
    },
    {
     "name": "stdout",
     "output_type": "stream",
     "text": [
      "Finished 20250417-diffs.csv\n"
     ]
    },
    {
     "name": "stderr",
     "output_type": "stream",
     "text": [
      "C:\\Users\\Graham\\AppData\\Local\\Temp\\ipykernel_8792\\4069088536.py:4: UserWarning: Could not infer format, so each element will be parsed individually, falling back to `dateutil`. To ensure parsing is consistent and as-expected, please specify a format.\n",
      "  stop_times[\"arrival_time\"] = pd.to_datetime(stop_times[\"arrival_time\"], errors=\"coerce\")\n"
     ]
    },
    {
     "name": "stdout",
     "output_type": "stream",
     "text": [
      "Finished 20250418-diffs.csv\n"
     ]
    },
    {
     "name": "stderr",
     "output_type": "stream",
     "text": [
      "C:\\Users\\Graham\\AppData\\Local\\Temp\\ipykernel_8792\\4069088536.py:4: UserWarning: Could not infer format, so each element will be parsed individually, falling back to `dateutil`. To ensure parsing is consistent and as-expected, please specify a format.\n",
      "  stop_times[\"arrival_time\"] = pd.to_datetime(stop_times[\"arrival_time\"], errors=\"coerce\")\n"
     ]
    },
    {
     "name": "stdout",
     "output_type": "stream",
     "text": [
      "Finished 20250419-diffs.csv\n"
     ]
    }
   ],
   "source": [
    "for i in range(9, 20):\n",
    "    stop_times = pd.read_csv(\"GTFS/stop_times.csv\")\n",
    "    stop_times = stop_times[[\"trip_id\", \"arrival_time\", \"stop_id\", \"stop_sequence\"]]\n",
    "    stop_times[\"arrival_time\"] = pd.to_datetime(stop_times[\"arrival_time\"], errors=\"coerce\")\n",
    "    stop_times[\"arrival_time\"] = stop_times[\"arrival_time\"].apply(\n",
    "        lambda dt: dt.replace(year=2025, month=4, day=i) if pd.notnull(dt) else pd.NaT\n",
    "    )\n",
    "    stop_times.head()\n",
    "\n",
    "    df = dfs[i - 9]\n",
    "    df = df.drop_duplicates()\n",
    "    df = df[[\"Vehicle ID\", \"Trip ID\", \"Route ID\", \"Current Stop Sequence\", \"Timestamp\"]]\n",
    "    df[\"Timestamp\"] = pd.to_datetime(df[\"Timestamp\"])\n",
    "    df[\"Timestamp\"] = df[\"Timestamp\"].apply(lambda dt: dt.replace(hour=(dt.hour + 13) % 24))\n",
    "\n",
    "    merged = pd.merge(stop_times, df, left_on=['trip_id', 'stop_sequence'], right_on=['Trip ID', 'Current Stop Sequence'], how='inner')\n",
    "    merged['Difference'] = (merged['Timestamp'] - merged[\"arrival_time\"])\n",
    "\n",
    "    merged[[\"Difference\"]].to_csv(f\"202504{str(i).zfill(2)}-diffs.csv\")\n",
    "    print(f\"Finished 202504{str(i).zfill(2)}-diffs.csv\")"
   ]
  }
 ],
 "metadata": {
  "kernelspec": {
   "display_name": "env",
   "language": "python",
   "name": "python3"
  },
  "language_info": {
   "codemirror_mode": {
    "name": "ipython",
    "version": 3
   },
   "file_extension": ".py",
   "mimetype": "text/x-python",
   "name": "python",
   "nbconvert_exporter": "python",
   "pygments_lexer": "ipython3",
   "version": "3.10.4"
  }
 },
 "nbformat": 4,
 "nbformat_minor": 2
}
