{
 "cells": [
  {
   "cell_type": "code",
   "execution_count": 253,
   "metadata": {},
   "outputs": [],
   "source": [
    "import time\n",
    "import urllib.request\n",
    "from datetime import datetime, timedelta\n",
    "import os\n",
    "\n",
    "from google.transit import gtfs_realtime_pb2\n",
    "\n",
    "import pandas as pd\n",
    "pd.options.mode.chained_assignment = None  # default='warn'\n",
    "\n",
    "import matplotlib.pyplot as plt\n",
    "%matplotlib inline\n",
    "from matplotlib import rc"
   ]
  },
  {
   "cell_type": "code",
   "execution_count": 207,
   "metadata": {},
   "outputs": [],
   "source": [
    "SHINJUKU_ROUTE_IDS = {\n",
    "    10: \"C H 0 1\",\n",
    "    122: \"白 6 1\",\n",
    "    135: \"宿 7 4\",\n",
    "    138: \"宿 7 5\",\n",
    "    147: \"早 7 7\",\n",
    "    148: \"王 7 8\",\n",
    "    158: \"宿 9 1\",\n",
    "    169: \"品 9 7\",\n",
    "}"
   ]
  },
  {
   "cell_type": "code",
   "execution_count": 3,
   "metadata": {},
   "outputs": [],
   "source": [
    "# Helper to convert UNIX timestamp to readable format\n",
    "def format_time(ts):\n",
    "    return datetime.fromtimestamp(ts).strftime(\"%Y-%m-%d %H:%M:%S\") if ts else \"N/A\""
   ]
  },
  {
   "cell_type": "code",
   "execution_count": 99,
   "metadata": {},
   "outputs": [
    {
     "data": {
      "text/html": [
       "<div>\n",
       "<style scoped>\n",
       "    .dataframe tbody tr th:only-of-type {\n",
       "        vertical-align: middle;\n",
       "    }\n",
       "\n",
       "    .dataframe tbody tr th {\n",
       "        vertical-align: top;\n",
       "    }\n",
       "\n",
       "    .dataframe thead th {\n",
       "        text-align: right;\n",
       "    }\n",
       "</style>\n",
       "<table border=\"1\" class=\"dataframe\">\n",
       "  <thead>\n",
       "    <tr style=\"text-align: right;\">\n",
       "      <th></th>\n",
       "      <th>Vehicle ID</th>\n",
       "      <th>Trip ID</th>\n",
       "      <th>Route ID</th>\n",
       "      <th>Direction</th>\n",
       "      <th>Schedule Relationship</th>\n",
       "      <th>Current Stop Sequence</th>\n",
       "      <th>Current Stop ID</th>\n",
       "      <th>Timestamp</th>\n",
       "      <th>Location</th>\n",
       "    </tr>\n",
       "  </thead>\n",
       "  <tbody>\n",
       "    <tr>\n",
       "      <th>0</th>\n",
       "      <td>K224</td>\n",
       "      <td>12101-3-13-170-1208</td>\n",
       "      <td>10</td>\n",
       "      <td>0.0</td>\n",
       "      <td>0.0</td>\n",
       "      <td>4.0</td>\n",
       "      <td>2250-01</td>\n",
       "      <td>2025-04-09 23:14:06</td>\n",
       "      <td>35.68959045410156 139.69358825683594</td>\n",
       "    </tr>\n",
       "    <tr>\n",
       "      <th>1</th>\n",
       "      <td>F584</td>\n",
       "      <td>44201-1-37-170-1214</td>\n",
       "      <td>122</td>\n",
       "      <td>1.0</td>\n",
       "      <td>0.0</td>\n",
       "      <td>2.0</td>\n",
       "      <td>1516-01</td>\n",
       "      <td>2025-04-09 23:15:28</td>\n",
       "      <td>35.737483978271484 139.66888427734375</td>\n",
       "    </tr>\n",
       "    <tr>\n",
       "      <th>2</th>\n",
       "      <td>G745</td>\n",
       "      <td>44201-1-37-170-1204</td>\n",
       "      <td>122</td>\n",
       "      <td>1.0</td>\n",
       "      <td>0.0</td>\n",
       "      <td>8.0</td>\n",
       "      <td>1486-02</td>\n",
       "      <td>2025-04-09 23:16:05</td>\n",
       "      <td>35.72273635864258 139.6904296875</td>\n",
       "    </tr>\n",
       "    <tr>\n",
       "      <th>3</th>\n",
       "      <td>F577</td>\n",
       "      <td>44201-1-37-170-1154</td>\n",
       "      <td>122</td>\n",
       "      <td>1.0</td>\n",
       "      <td>0.0</td>\n",
       "      <td>13.0</td>\n",
       "      <td>1529-05</td>\n",
       "      <td>2025-04-09 23:16:03</td>\n",
       "      <td>35.7219352722168 139.70632934570312</td>\n",
       "    </tr>\n",
       "    <tr>\n",
       "      <th>4</th>\n",
       "      <td>F576</td>\n",
       "      <td>44201-1-37-170-1144</td>\n",
       "      <td>122</td>\n",
       "      <td>1.0</td>\n",
       "      <td>0.0</td>\n",
       "      <td>20.0</td>\n",
       "      <td>0799-02</td>\n",
       "      <td>2025-04-09 23:15:40</td>\n",
       "      <td>35.7138557434082 139.72604370117188</td>\n",
       "    </tr>\n",
       "  </tbody>\n",
       "</table>\n",
       "</div>"
      ],
      "text/plain": [
       "  Vehicle ID              Trip ID  Route ID  Direction  Schedule Relationship  \\\n",
       "0       K224  12101-3-13-170-1208        10        0.0                    0.0   \n",
       "1       F584  44201-1-37-170-1214       122        1.0                    0.0   \n",
       "2       G745  44201-1-37-170-1204       122        1.0                    0.0   \n",
       "3       F577  44201-1-37-170-1154       122        1.0                    0.0   \n",
       "4       F576  44201-1-37-170-1144       122        1.0                    0.0   \n",
       "\n",
       "   Current Stop Sequence Current Stop ID            Timestamp  \\\n",
       "0                    4.0         2250-01  2025-04-09 23:14:06   \n",
       "1                    2.0         1516-01  2025-04-09 23:15:28   \n",
       "2                    8.0         1486-02  2025-04-09 23:16:05   \n",
       "3                   13.0         1529-05  2025-04-09 23:16:03   \n",
       "4                   20.0         0799-02  2025-04-09 23:15:40   \n",
       "\n",
       "                                Location  \n",
       "0   35.68959045410156 139.69358825683594  \n",
       "1  35.737483978271484 139.66888427734375  \n",
       "2       35.72273635864258 139.6904296875  \n",
       "3    35.7219352722168 139.70632934570312  \n",
       "4    35.7138557434082 139.72604370117188  "
      ]
     },
     "execution_count": 99,
     "metadata": {},
     "output_type": "execute_result"
    }
   ],
   "source": [
    "dfs = []\n",
    "for i in range(9, 20):\n",
    "    date = f\"202504{str(i).zfill(2)}\"\n",
    "    dfs.append(pd.read_csv(f\"{date}.csv\", index_col=0))\n",
    "\n",
    "dfs[0].head()"
   ]
  },
  {
   "cell_type": "code",
   "execution_count": 116,
   "metadata": {},
   "outputs": [
    {
     "name": "stderr",
     "output_type": "stream",
     "text": [
      "C:\\Users\\Graham\\AppData\\Local\\Temp\\ipykernel_8792\\1456369796.py:4: UserWarning: Could not infer format, so each element will be parsed individually, falling back to `dateutil`. To ensure parsing is consistent and as-expected, please specify a format.\n",
      "  stop_times[\"arrival_time\"] = pd.to_datetime(stop_times[\"arrival_time\"], errors=\"coerce\")\n"
     ]
    },
    {
     "name": "stdout",
     "output_type": "stream",
     "text": [
      "Finished 20250409-diffs.csv\n"
     ]
    },
    {
     "name": "stderr",
     "output_type": "stream",
     "text": [
      "C:\\Users\\Graham\\AppData\\Local\\Temp\\ipykernel_8792\\1456369796.py:4: UserWarning: Could not infer format, so each element will be parsed individually, falling back to `dateutil`. To ensure parsing is consistent and as-expected, please specify a format.\n",
      "  stop_times[\"arrival_time\"] = pd.to_datetime(stop_times[\"arrival_time\"], errors=\"coerce\")\n"
     ]
    },
    {
     "name": "stdout",
     "output_type": "stream",
     "text": [
      "Finished 20250410-diffs.csv\n"
     ]
    },
    {
     "name": "stderr",
     "output_type": "stream",
     "text": [
      "C:\\Users\\Graham\\AppData\\Local\\Temp\\ipykernel_8792\\1456369796.py:4: UserWarning: Could not infer format, so each element will be parsed individually, falling back to `dateutil`. To ensure parsing is consistent and as-expected, please specify a format.\n",
      "  stop_times[\"arrival_time\"] = pd.to_datetime(stop_times[\"arrival_time\"], errors=\"coerce\")\n"
     ]
    },
    {
     "name": "stdout",
     "output_type": "stream",
     "text": [
      "Finished 20250411-diffs.csv\n"
     ]
    },
    {
     "name": "stderr",
     "output_type": "stream",
     "text": [
      "C:\\Users\\Graham\\AppData\\Local\\Temp\\ipykernel_8792\\1456369796.py:4: UserWarning: Could not infer format, so each element will be parsed individually, falling back to `dateutil`. To ensure parsing is consistent and as-expected, please specify a format.\n",
      "  stop_times[\"arrival_time\"] = pd.to_datetime(stop_times[\"arrival_time\"], errors=\"coerce\")\n"
     ]
    },
    {
     "name": "stdout",
     "output_type": "stream",
     "text": [
      "Finished 20250412-diffs.csv\n"
     ]
    },
    {
     "name": "stderr",
     "output_type": "stream",
     "text": [
      "C:\\Users\\Graham\\AppData\\Local\\Temp\\ipykernel_8792\\1456369796.py:4: UserWarning: Could not infer format, so each element will be parsed individually, falling back to `dateutil`. To ensure parsing is consistent and as-expected, please specify a format.\n",
      "  stop_times[\"arrival_time\"] = pd.to_datetime(stop_times[\"arrival_time\"], errors=\"coerce\")\n"
     ]
    },
    {
     "name": "stdout",
     "output_type": "stream",
     "text": [
      "Finished 20250413-diffs.csv\n"
     ]
    },
    {
     "name": "stderr",
     "output_type": "stream",
     "text": [
      "C:\\Users\\Graham\\AppData\\Local\\Temp\\ipykernel_8792\\1456369796.py:4: UserWarning: Could not infer format, so each element will be parsed individually, falling back to `dateutil`. To ensure parsing is consistent and as-expected, please specify a format.\n",
      "  stop_times[\"arrival_time\"] = pd.to_datetime(stop_times[\"arrival_time\"], errors=\"coerce\")\n"
     ]
    },
    {
     "name": "stdout",
     "output_type": "stream",
     "text": [
      "Finished 20250414-diffs.csv\n"
     ]
    },
    {
     "name": "stderr",
     "output_type": "stream",
     "text": [
      "C:\\Users\\Graham\\AppData\\Local\\Temp\\ipykernel_8792\\1456369796.py:4: UserWarning: Could not infer format, so each element will be parsed individually, falling back to `dateutil`. To ensure parsing is consistent and as-expected, please specify a format.\n",
      "  stop_times[\"arrival_time\"] = pd.to_datetime(stop_times[\"arrival_time\"], errors=\"coerce\")\n"
     ]
    },
    {
     "name": "stdout",
     "output_type": "stream",
     "text": [
      "Finished 20250415-diffs.csv\n"
     ]
    },
    {
     "name": "stderr",
     "output_type": "stream",
     "text": [
      "C:\\Users\\Graham\\AppData\\Local\\Temp\\ipykernel_8792\\1456369796.py:4: UserWarning: Could not infer format, so each element will be parsed individually, falling back to `dateutil`. To ensure parsing is consistent and as-expected, please specify a format.\n",
      "  stop_times[\"arrival_time\"] = pd.to_datetime(stop_times[\"arrival_time\"], errors=\"coerce\")\n"
     ]
    },
    {
     "name": "stdout",
     "output_type": "stream",
     "text": [
      "Finished 20250416-diffs.csv\n"
     ]
    },
    {
     "name": "stderr",
     "output_type": "stream",
     "text": [
      "C:\\Users\\Graham\\AppData\\Local\\Temp\\ipykernel_8792\\1456369796.py:4: UserWarning: Could not infer format, so each element will be parsed individually, falling back to `dateutil`. To ensure parsing is consistent and as-expected, please specify a format.\n",
      "  stop_times[\"arrival_time\"] = pd.to_datetime(stop_times[\"arrival_time\"], errors=\"coerce\")\n"
     ]
    },
    {
     "name": "stdout",
     "output_type": "stream",
     "text": [
      "Finished 20250417-diffs.csv\n"
     ]
    },
    {
     "name": "stderr",
     "output_type": "stream",
     "text": [
      "C:\\Users\\Graham\\AppData\\Local\\Temp\\ipykernel_8792\\1456369796.py:4: UserWarning: Could not infer format, so each element will be parsed individually, falling back to `dateutil`. To ensure parsing is consistent and as-expected, please specify a format.\n",
      "  stop_times[\"arrival_time\"] = pd.to_datetime(stop_times[\"arrival_time\"], errors=\"coerce\")\n"
     ]
    },
    {
     "name": "stdout",
     "output_type": "stream",
     "text": [
      "Finished 20250418-diffs.csv\n"
     ]
    },
    {
     "name": "stderr",
     "output_type": "stream",
     "text": [
      "C:\\Users\\Graham\\AppData\\Local\\Temp\\ipykernel_8792\\1456369796.py:4: UserWarning: Could not infer format, so each element will be parsed individually, falling back to `dateutil`. To ensure parsing is consistent and as-expected, please specify a format.\n",
      "  stop_times[\"arrival_time\"] = pd.to_datetime(stop_times[\"arrival_time\"], errors=\"coerce\")\n"
     ]
    },
    {
     "name": "stdout",
     "output_type": "stream",
     "text": [
      "Finished 20250419-diffs.csv\n"
     ]
    }
   ],
   "source": [
    "for i in range(9, 20):\n",
    "    stop_times = pd.read_csv(\"GTFS/stop_times.csv\")\n",
    "    stop_times = stop_times[[\"trip_id\", \"arrival_time\", \"stop_id\", \"stop_sequence\"]]\n",
    "    stop_times[\"arrival_time\"] = pd.to_datetime(stop_times[\"arrival_time\"], errors=\"coerce\")\n",
    "    stop_times[\"arrival_time\"] = stop_times[\"arrival_time\"].apply(\n",
    "        lambda dt: dt.replace(year=2025, month=4, day=i) if pd.notnull(dt) else pd.NaT\n",
    "    )\n",
    "    stop_times.head()\n",
    "\n",
    "    df = dfs[i - 9]\n",
    "    df = df.drop_duplicates()\n",
    "    df = df[[\"Vehicle ID\", \"Trip ID\", \"Route ID\", \"Current Stop Sequence\", \"Timestamp\"]]\n",
    "    df[\"Timestamp\"] = pd.to_datetime(df[\"Timestamp\"])\n",
    "    df[\"Timestamp\"] = df[\"Timestamp\"].apply(lambda dt: dt.replace(hour=(dt.hour + 13) % 24))\n",
    "\n",
    "    merged = pd.merge(stop_times, df, left_on=['trip_id', 'stop_sequence'], right_on=['Trip ID', 'Current Stop Sequence'], how='inner')\n",
    "    merged['Difference'] = (merged['Timestamp'] - merged[\"arrival_time\"])\n",
    "\n",
    "    merged[[\"Route ID\", \"Difference\"]].to_csv(f\"202504{str(i).zfill(2)}-diffs.csv\")\n",
    "    print(f\"Finished 202504{str(i).zfill(2)}-diffs.csv\")"
   ]
  },
  {
   "cell_type": "code",
   "execution_count": 265,
   "metadata": {},
   "outputs": [
    {
     "name": "stderr",
     "output_type": "stream",
     "text": [
      "C:\\Users\\Graham\\AppData\\Local\\Temp\\ipykernel_8792\\540861540.py:10: DeprecationWarning: DataFrameGroupBy.apply operated on the grouping columns. This behavior is deprecated, and in a future version of pandas the grouping columns will be excluded from the operation. Either pass `include_groups=False` to exclude the groupings or explicitly select the grouping columns after groupby to silence this warning.\n",
      "  .apply(lambda g: (g[\"Difference\"] < threshold).mean())\n",
      "C:\\Users\\Graham\\AppData\\Local\\Temp\\ipykernel_8792\\540861540.py:10: DeprecationWarning: DataFrameGroupBy.apply operated on the grouping columns. This behavior is deprecated, and in a future version of pandas the grouping columns will be excluded from the operation. Either pass `include_groups=False` to exclude the groupings or explicitly select the grouping columns after groupby to silence this warning.\n",
      "  .apply(lambda g: (g[\"Difference\"] < threshold).mean())\n",
      "C:\\Users\\Graham\\AppData\\Local\\Temp\\ipykernel_8792\\540861540.py:10: DeprecationWarning: DataFrameGroupBy.apply operated on the grouping columns. This behavior is deprecated, and in a future version of pandas the grouping columns will be excluded from the operation. Either pass `include_groups=False` to exclude the groupings or explicitly select the grouping columns after groupby to silence this warning.\n",
      "  .apply(lambda g: (g[\"Difference\"] < threshold).mean())\n",
      "C:\\Users\\Graham\\AppData\\Local\\Temp\\ipykernel_8792\\540861540.py:10: DeprecationWarning: DataFrameGroupBy.apply operated on the grouping columns. This behavior is deprecated, and in a future version of pandas the grouping columns will be excluded from the operation. Either pass `include_groups=False` to exclude the groupings or explicitly select the grouping columns after groupby to silence this warning.\n",
      "  .apply(lambda g: (g[\"Difference\"] < threshold).mean())\n",
      "C:\\Users\\Graham\\AppData\\Local\\Temp\\ipykernel_8792\\540861540.py:10: DeprecationWarning: DataFrameGroupBy.apply operated on the grouping columns. This behavior is deprecated, and in a future version of pandas the grouping columns will be excluded from the operation. Either pass `include_groups=False` to exclude the groupings or explicitly select the grouping columns after groupby to silence this warning.\n",
      "  .apply(lambda g: (g[\"Difference\"] < threshold).mean())\n",
      "C:\\Users\\Graham\\AppData\\Local\\Temp\\ipykernel_8792\\540861540.py:10: DeprecationWarning: DataFrameGroupBy.apply operated on the grouping columns. This behavior is deprecated, and in a future version of pandas the grouping columns will be excluded from the operation. Either pass `include_groups=False` to exclude the groupings or explicitly select the grouping columns after groupby to silence this warning.\n",
      "  .apply(lambda g: (g[\"Difference\"] < threshold).mean())\n",
      "C:\\Users\\Graham\\AppData\\Local\\Temp\\ipykernel_8792\\540861540.py:10: DeprecationWarning: DataFrameGroupBy.apply operated on the grouping columns. This behavior is deprecated, and in a future version of pandas the grouping columns will be excluded from the operation. Either pass `include_groups=False` to exclude the groupings or explicitly select the grouping columns after groupby to silence this warning.\n",
      "  .apply(lambda g: (g[\"Difference\"] < threshold).mean())\n",
      "C:\\Users\\Graham\\AppData\\Local\\Temp\\ipykernel_8792\\540861540.py:10: DeprecationWarning: DataFrameGroupBy.apply operated on the grouping columns. This behavior is deprecated, and in a future version of pandas the grouping columns will be excluded from the operation. Either pass `include_groups=False` to exclude the groupings or explicitly select the grouping columns after groupby to silence this warning.\n",
      "  .apply(lambda g: (g[\"Difference\"] < threshold).mean())\n",
      "C:\\Users\\Graham\\AppData\\Local\\Temp\\ipykernel_8792\\540861540.py:10: DeprecationWarning: DataFrameGroupBy.apply operated on the grouping columns. This behavior is deprecated, and in a future version of pandas the grouping columns will be excluded from the operation. Either pass `include_groups=False` to exclude the groupings or explicitly select the grouping columns after groupby to silence this warning.\n",
      "  .apply(lambda g: (g[\"Difference\"] < threshold).mean())\n",
      "C:\\Users\\Graham\\AppData\\Local\\Temp\\ipykernel_8792\\540861540.py:10: DeprecationWarning: DataFrameGroupBy.apply operated on the grouping columns. This behavior is deprecated, and in a future version of pandas the grouping columns will be excluded from the operation. Either pass `include_groups=False` to exclude the groupings or explicitly select the grouping columns after groupby to silence this warning.\n",
      "  .apply(lambda g: (g[\"Difference\"] < threshold).mean())\n",
      "C:\\Users\\Graham\\AppData\\Local\\Temp\\ipykernel_8792\\540861540.py:10: DeprecationWarning: DataFrameGroupBy.apply operated on the grouping columns. This behavior is deprecated, and in a future version of pandas the grouping columns will be excluded from the operation. Either pass `include_groups=False` to exclude the groupings or explicitly select the grouping columns after groupby to silence this warning.\n",
      "  .apply(lambda g: (g[\"Difference\"] < threshold).mean())\n",
      "C:\\Users\\Graham\\AppData\\Local\\Temp\\ipykernel_8792\\540861540.py:15: DeprecationWarning: DataFrameGroupBy.apply operated on the grouping columns. This behavior is deprecated, and in a future version of pandas the grouping columns will be excluded from the operation. Either pass `include_groups=False` to exclude the groupings or explicitly select the grouping columns after groupby to silence this warning.\n",
      "  averageOTPShinjuku = under_threshold.groupby(\"Route ID\").apply(lambda g: g[\"OTP\"].mean()).reset_index(name=\"Average OTP\")\n"
     ]
    },
    {
     "data": {
      "text/html": [
       "<div>\n",
       "<style scoped>\n",
       "    .dataframe tbody tr th:only-of-type {\n",
       "        vertical-align: middle;\n",
       "    }\n",
       "\n",
       "    .dataframe tbody tr th {\n",
       "        vertical-align: top;\n",
       "    }\n",
       "\n",
       "    .dataframe thead th {\n",
       "        text-align: right;\n",
       "    }\n",
       "</style>\n",
       "<table border=\"1\" class=\"dataframe\">\n",
       "  <thead>\n",
       "    <tr style=\"text-align: right;\">\n",
       "      <th></th>\n",
       "      <th>Route ID</th>\n",
       "      <th>Average OTP</th>\n",
       "    </tr>\n",
       "  </thead>\n",
       "  <tbody>\n",
       "    <tr>\n",
       "      <th>4</th>\n",
       "      <td>147</td>\n",
       "      <td>0.976628</td>\n",
       "    </tr>\n",
       "    <tr>\n",
       "      <th>0</th>\n",
       "      <td>10</td>\n",
       "      <td>0.920645</td>\n",
       "    </tr>\n",
       "    <tr>\n",
       "      <th>3</th>\n",
       "      <td>138</td>\n",
       "      <td>0.910232</td>\n",
       "    </tr>\n",
       "    <tr>\n",
       "      <th>2</th>\n",
       "      <td>135</td>\n",
       "      <td>0.894947</td>\n",
       "    </tr>\n",
       "    <tr>\n",
       "      <th>1</th>\n",
       "      <td>122</td>\n",
       "      <td>0.886327</td>\n",
       "    </tr>\n",
       "    <tr>\n",
       "      <th>6</th>\n",
       "      <td>158</td>\n",
       "      <td>0.862001</td>\n",
       "    </tr>\n",
       "    <tr>\n",
       "      <th>7</th>\n",
       "      <td>169</td>\n",
       "      <td>0.772459</td>\n",
       "    </tr>\n",
       "    <tr>\n",
       "      <th>5</th>\n",
       "      <td>148</td>\n",
       "      <td>0.759383</td>\n",
       "    </tr>\n",
       "  </tbody>\n",
       "</table>\n",
       "</div>"
      ],
      "text/plain": [
       "   Route ID  Average OTP\n",
       "4       147     0.976628\n",
       "0        10     0.920645\n",
       "3       138     0.910232\n",
       "2       135     0.894947\n",
       "1       122     0.886327\n",
       "6       158     0.862001\n",
       "7       169     0.772459\n",
       "5       148     0.759383"
      ]
     },
     "execution_count": 265,
     "metadata": {},
     "output_type": "execute_result"
    }
   ],
   "source": [
    "threshold = pd.to_timedelta(\"00:05:00\")\n",
    "under_threshold = pd.DataFrame()\n",
    "for i in range(9, 20):\n",
    "    date = f\"202504{str(i).zfill(2)}\"\n",
    "    df = pd.read_csv(f\"{date}-diffs.csv\", index_col=0)\n",
    "    df[\"Difference\"] = pd.to_timedelta(df[\"Difference\"])\n",
    "\n",
    "    percent_under_threshold = (\n",
    "        df.groupby(\"Route ID\")\n",
    "        .apply(lambda g: (g[\"Difference\"] < threshold).mean())\n",
    "        .reset_index(name=\"OTP\")\n",
    "    )\n",
    "    under_threshold = pd.concat([under_threshold, percent_under_threshold])\n",
    "\n",
    "averageOTPShinjuku = under_threshold.groupby(\"Route ID\").apply(lambda g: g[\"OTP\"].mean()).reset_index(name=\"Average OTP\")\n",
    "averageOTPShinjukuSorted = averageOTPShinjuku.sort_values(by=[\"Average OTP\"], ascending=False)\n",
    "averageOTPShinjukuSorted"
   ]
  },
  {
   "cell_type": "code",
   "execution_count": 266,
   "metadata": {},
   "outputs": [
    {
     "name": "stderr",
     "output_type": "stream",
     "text": [
      "C:\\Users\\Graham\\AppData\\Local\\Temp\\ipykernel_8792\\563581604.py:4: DeprecationWarning: DataFrameGroupBy.apply operated on the grouping columns. This behavior is deprecated, and in a future version of pandas the grouping columns will be excluded from the operation. Either pass `include_groups=False` to exclude the groupings or explicitly select the grouping columns after groupby to silence this warning.\n",
      "  averageOTP = df.groupby(\"Route ID\").apply(lambda g: g[\"on_time_percent\"].mean()).reset_index(name=\"Average OTP\")\n"
     ]
    },
    {
     "data": {
      "text/html": [
       "<div>\n",
       "<style scoped>\n",
       "    .dataframe tbody tr th:only-of-type {\n",
       "        vertical-align: middle;\n",
       "    }\n",
       "\n",
       "    .dataframe tbody tr th {\n",
       "        vertical-align: top;\n",
       "    }\n",
       "\n",
       "    .dataframe thead th {\n",
       "        text-align: right;\n",
       "    }\n",
       "</style>\n",
       "<table border=\"1\" class=\"dataframe\">\n",
       "  <thead>\n",
       "    <tr style=\"text-align: right;\">\n",
       "      <th></th>\n",
       "      <th>Route ID</th>\n",
       "      <th>Average OTP</th>\n",
       "    </tr>\n",
       "  </thead>\n",
       "  <tbody>\n",
       "    <tr>\n",
       "      <th>8</th>\n",
       "      <td>71D</td>\n",
       "      <td>0.681224</td>\n",
       "    </tr>\n",
       "    <tr>\n",
       "      <th>5</th>\n",
       "      <td>71A</td>\n",
       "      <td>0.678181</td>\n",
       "    </tr>\n",
       "    <tr>\n",
       "      <th>6</th>\n",
       "      <td>71B</td>\n",
       "      <td>0.668718</td>\n",
       "    </tr>\n",
       "    <tr>\n",
       "      <th>0</th>\n",
       "      <td>54</td>\n",
       "      <td>0.657858</td>\n",
       "    </tr>\n",
       "    <tr>\n",
       "      <th>4</th>\n",
       "      <td>61D</td>\n",
       "      <td>0.656128</td>\n",
       "    </tr>\n",
       "    <tr>\n",
       "      <th>2</th>\n",
       "      <td>61B</td>\n",
       "      <td>0.651642</td>\n",
       "    </tr>\n",
       "    <tr>\n",
       "      <th>1</th>\n",
       "      <td>61A</td>\n",
       "      <td>0.645773</td>\n",
       "    </tr>\n",
       "    <tr>\n",
       "      <th>7</th>\n",
       "      <td>71C</td>\n",
       "      <td>0.614849</td>\n",
       "    </tr>\n",
       "    <tr>\n",
       "      <th>3</th>\n",
       "      <td>61C</td>\n",
       "      <td>0.591298</td>\n",
       "    </tr>\n",
       "  </tbody>\n",
       "</table>\n",
       "</div>"
      ],
      "text/plain": [
       "  Route ID  Average OTP\n",
       "8      71D     0.681224\n",
       "5      71A     0.678181\n",
       "6      71B     0.668718\n",
       "0       54     0.657858\n",
       "4      61D     0.656128\n",
       "2      61B     0.651642\n",
       "1      61A     0.645773\n",
       "7      71C     0.614849\n",
       "3      61C     0.591298"
      ]
     },
     "execution_count": 266,
     "metadata": {},
     "output_type": "execute_result"
    }
   ],
   "source": [
    "df = pd.read_csv(\"pgh-otp.csv\", index_col=0)\n",
    "df = df.rename(columns={\"route\": \"Route ID\"})\n",
    "# df = df[df[\"month_start\"].str.startswith(\"2024\")]\n",
    "averageOTP = df.groupby(\"Route ID\").apply(lambda g: g[\"on_time_percent\"].mean()).reset_index(name=\"Average OTP\")\n",
    "averageOTPPGH = averageOTP[averageOTP[\"Route ID\"].isin([\"61A\", \"61B\", \"61C\", \"61D\", \"54\", \"71A\", \"71B\", \"71C\", \"71D\"])].reset_index(drop=True)\n",
    "\n",
    "averageOTPPGHSorted = averageOTPPGH.sort_values(by=[\"Average OTP\"], ascending = False)\n",
    "averageOTPPGHSorted"
   ]
  },
  {
   "cell_type": "code",
   "execution_count": 255,
   "metadata": {},
   "outputs": [],
   "source": [
    "plt.rcParams.update(plt.rcParamsDefault)\n",
    "plt.style.use(\"seaborn-v0_8-pastel\")"
   ]
  },
  {
   "cell_type": "code",
   "execution_count": null,
   "metadata": {},
   "outputs": [
    {
     "data": {
      "image/png": "[encoded data removed]",
      "text/plain": [
       "<Figure size 640x480 with 1 Axes>"
      ]
     },
     "metadata": {},
     "output_type": "display_data"
    }
   ],
   "source": [
    "# Font to allow for Japanese characters\n",
    "rc('font', **{'family': 'serif', 'serif': ['MS Gothic']})\n",
    "\n",
    "averageOTPShinjukuSorted[\"Route ID\"] = averageOTPShinjukuSorted[\"Route ID\"].map(SHINJUKU_ROUTE_IDS)\n",
    "\n",
    "# Add a 'Source' column to both datasets to distinguish them\n",
    "averageOTPShinjukuSorted['Source'] = 'Shinjuku'\n",
    "averageOTPPGHSorted['Source'] = 'PGH'\n",
    "\n",
    "df = pd.concat([averageOTPShinjukuSorted, averageOTPPGHSorted])\n",
    "\n",
    "df.set_index(\"Route ID\", inplace=True)\n",
    "\n",
    "ax = df.plot(kind=\"bar\", y='Average OTP', color=df['Source'].map({'Shinjuku': 'salmon', 'PGH': 'teal'}))\n",
    "\n",
    "ax.set_xlabel('Route ID')\n",
    "ax.set_ylabel('Average OTP')\n",
    "ax.set_title('Average OTP for Shinjuku and PGH Routes')\n",
    "\n",
    "# Manually add a legend\n",
    "handles, labels = ax.get_legend_handles_labels()\n",
    "shinjuku_patch = plt.Line2D([0], [0], marker='o', color='w', markerfacecolor='salmon', markersize=10, label='Shinjuku')\n",
    "pgh_patch = plt.Line2D([0], [0], marker='o', color='w', markerfacecolor='teal', markersize=10, label='PGH')\n",
    "ax.legend(handles=[shinjuku_patch, pgh_patch], title=\"Source\")\n",
    "\n",
    "# Add labels to each bar\n",
    "for i, bar in enumerate(ax.patches):\n",
    "    height = bar.get_height()\n",
    "    x_position = bar.get_x() + bar.get_width() / 2  # To position the label in the center of the bar\n",
    "    # Add text annotation for each bar\n",
    "    ax.text(x_position, height, f'{round(height * 100)}%', ha='center', va='bottom', fontsize=10)\n",
    "\n",
    "plt.show()"
   ]
  },
  {
   "cell_type": "code",
   "execution_count": 274,
   "metadata": {},
   "outputs": [
    {
     "name": "stdout",
     "output_type": "stream",
     "text": [
      "Average OTP    0.872828\n",
      "dtype: float64\n",
      "Average OTP    0.649519\n",
      "dtype: float64\n"
     ]
    }
   ],
   "source": [
    "print(averageOTPShinjuku.set_index(\"Route ID\").mean())\n",
    "print(averageOTPPGH.set_index(\"Route ID\").mean())"
   ]
  }
 ],
 "metadata": {
  "kernelspec": {
   "display_name": "env",
   "language": "python",
   "name": "python3"
  },
  "language_info": {
   "codemirror_mode": {
    "name": "ipython",
    "version": 3
   },
   "file_extension": ".py",
   "mimetype": "text/x-python",
   "name": "python",
   "nbconvert_exporter": "python",
   "pygments_lexer": "ipython3",
   "version": "3.10.4"
  }
 },
 "nbformat": 4,
 "nbformat_minor": 2
}
